{
 "cells": [
  {
   "cell_type": "code",
   "execution_count": 45,
   "id": "blocked-paris",
   "metadata": {},
   "outputs": [],
   "source": [
    "from selenium import webdriver\n",
    "import time\n",
    "import pandas as pd"
   ]
  },
  {
   "cell_type": "code",
   "execution_count": 46,
   "id": "spoken-mattress",
   "metadata": {},
   "outputs": [
    {
     "name": "stdout",
     "output_type": "stream",
     "text": [
      "                                  Teams                1x2\n",
      "0         FSV Mainz 05\\nBor. M'gladbach   2,60\\n3,40\\n2,70\n",
      "1           Bayern München\\nSC Freiburg  1,20\\n7,50\\n13,00\n",
      "2      VfB Stuttgart\\nArminia Bielefeld   1,80\\n3,80\\n4,30\n",
      "3       VfL Bochum\\nTSG 1899 Hoffenheim   3,80\\n3,80\\n1,90\n",
      "4            VfL Wolfsburg\\nFC Augsburg   1,55\\n4,20\\n6,00\n",
      "5         RB Leipzig\\nBorussia Dortmund   2,10\\n4,00\\n3,10\n",
      "6          Hertha BSC\\nBayer Leverkusen   3,80\\n3,60\\n1,95\n",
      "7              1. FC Köln\\nUnion Berlin   2,20\\n3,50\\n3,20\n",
      "8   Greuther Fürth\\nEintracht Frankfurt   3,60\\n4,00\\n1,90\n",
      "9           FC Augsburg\\nBayern München  13,00\\n7,50\\n1,20\n",
      "10     Arminia Bielefeld\\nVfL Wolfsburg   3,80\\n3,60\\n1,95\n",
      "11         Bayer Leverkusen\\nVfL Bochum   1,35\\n5,00\\n9,00\n",
      "12      Bor. M'gladbach\\nGreuther Fürth   1,32\\n5,50\\n9,00\n",
      "13     Borussia Dortmund\\nVfB Stuttgart   1,40\\n5,00\\n7,50\n",
      "14      TSG 1899 Hoffenheim\\nRB Leipzig   3,60\\n3,80\\n1,95\n",
      "15             Union Berlin\\nHertha BSC   2,05\\n3,50\\n3,60\n",
      "16     SC Freiburg\\nEintracht Frankfurt   2,00\\n3,60\\n3,70\n",
      "17             FSV Mainz 05\\n1. FC Köln   2,10\\n3,60\\n3,40\n"
     ]
    }
   ],
   "source": [
    "# betting site URL\n",
    "web = 'https://sports.tipico.de/de/alle/fussball/deutschland/bundesliga'\n",
    "\n",
    "# chromedriver\n",
    "path = 'D:/Download/unzip/chromedriver.exe'\n",
    "\n",
    "# set a driver instance to navigate through the website\n",
    "driver = webdriver.Chrome(path)\n",
    "driver.get(web)\n",
    "\n",
    "# make selenium to accept cookies on the website\n",
    "# set implicit wait to stop script for 5 seconds (from time library)\n",
    "# data is loaded dynamically so it can take some seconds to display all the data correctly.\n",
    "# As a result, an element might not be located in the DOM (Document Object Model) when scraping the website,\n",
    "# so we’ll get an “ElementNotVisibleException.\n",
    "# explicit wait = wait for certain condition to occur\n",
    "time.sleep(5)\n",
    "\n",
    "# accept is variable for option button\n",
    "accept = driver.find_element_by_xpath('//*[@id=\"_evidon-option-button\"]')\n",
    "accept.click()\n",
    "\n",
    "\n",
    "time.sleep(2)\n",
    "\n",
    "# decline is variable for decline button\n",
    "decline = driver.find_element_by_xpath('//*[@id=\"evidon-prefdiag-decline\"]')\n",
    "decline.click()\n",
    "\n",
    "\n",
    "#   --- Building the Web Scraper ---\n",
    "# empty lists to store all data\n",
    "teams = []\n",
    "x12 = []  # 3-way\n",
    "odds_events = []\n",
    "\n",
    "\n",
    "\n",
    "\n",
    "# select container with only upcoming matches box\n",
    "box = driver.find_element_by_xpath(\n",
    "    '//div[contains(@testid, \"Program_SELECTION\")]')\n",
    "time.sleep(5)\n",
    "\n",
    "# looking for the sports name\n",
    "sports_title = box.find_elements_by_class_name(\"SportTitle-styles-sport\")\n",
    "\n",
    "# extract data only from football matches, grandparent determines football container\n",
    "for sport in sports_title:\n",
    "    if sport.text == 'Fußball':\n",
    "        parent = sport.find_element_by_xpath('./..')\n",
    "        grandparent = parent.find_element_by_xpath('./..')\n",
    "        # looking for all single row events - produces a list\n",
    "        single_row_events = grandparent.find_elements_by_class_name(\n",
    "            'EventRow-styles-event-row')\n",
    "        # getting odds events and team names\n",
    "        for match in single_row_events:\n",
    "            odds_event = match.find_elements_by_class_name(\n",
    "                'EventOddGroup-styles-odd-groups')\n",
    "            odds_events.append(odds_event)\n",
    "            for team in match.find_elements_by_class_name('EventTeams-styles-titles'):\n",
    "                teams.append(team.text)\n",
    "         # getting data: the odds\n",
    "        for o_event in odds_events:\n",
    "            for n, box in enumerate(o_event):\n",
    "                rows = box.find_elements_by_xpath('.//*')\n",
    "                if n == 0:\n",
    "                    x12.append(rows[0].text)\n",
    "\n",
    "driver.quit()\n",
    "# Storing lists within dictionary\n",
    "dict_gambling = {'Teams': teams, '1x2': x12}\n",
    "\n",
    "# Presenting data in dataframe\n",
    "df_gambling = pd.DataFrame.from_dict(dict_gambling)\n",
    "print(df_gambling)\n",
    "\n"
   ]
  },
  {
   "cell_type": "code",
   "execution_count": null,
   "id": "registered-borough",
   "metadata": {},
   "outputs": [],
   "source": []
  }
 ],
 "metadata": {
  "interpreter": {
   "hash": "e5646435e1dd27f1491890627f4af90c09861e713f7a9528e02ae2ec6b10c961"
  },
  "kernelspec": {
   "display_name": "Python 3.9.7 64-bit ('base': conda)",
   "name": "python3"
  },
  "language_info": {
   "codemirror_mode": {
    "name": "ipython",
    "version": 3
   },
   "file_extension": ".py",
   "mimetype": "text/x-python",
   "name": "python",
   "nbconvert_exporter": "python",
   "pygments_lexer": "ipython3",
   "version": "3.9.7"
  }
 },
 "nbformat": 4,
 "nbformat_minor": 5
}
